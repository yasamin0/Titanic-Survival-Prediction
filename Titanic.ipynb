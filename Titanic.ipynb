{
  "nbformat": 4,
  "nbformat_minor": 0,
  "metadata": {
    "colab": {
      "provenance": [],
      "toc_visible": true
    },
    "kernelspec": {
      "name": "python3",
      "display_name": "Python 3"
    },
    "language_info": {
      "name": "python"
    }
  },
  "cells": [
    {
      "cell_type": "markdown",
      "source": [
        "# Would you survive Titanic?\n",
        "\n",
        "RMS Titanic was a British passenger ship that sank in the North\n",
        "Atlantic Ocean in the early morning hours of April 15, 1912, after\n",
        "striking an iceberg during her maiden voyage.  The majority of its\n",
        "passengers died in the accident.  As we will discover, not all of them\n",
        "had the same chance to survive.\n",
        "\n",
        "Data about 887 passengers have been collected and randomly divided\n",
        "into a training and a test set.  The training set includes 710 samples\n",
        "and is stored in the file `titanic-train.txt`, while the test set\n",
        "is composed of 177 cases and is stored in `titanic-test.txt`.\n",
        "Each row in the files represents a different passenger, and reports the\n",
        "following features:\n",
        "- the ticket class (1st, 2nd or 3rd);\n",
        "- sex ($0 \\to$ male, $1 \\to$ female);\n",
        "- age, in years;\n",
        "- number of siblings and spouses aboard;\n",
        "- number of parents and children aboard;\n",
        "- the passenger fare.\n",
        "\n",
        "The last column reports whether the passenger survived (1) or not (0).\n",
        "The files can be obtained by executing the following cell."
      ],
      "metadata": {
        "id": "pbXYV6QX4In0"
      }
    },
    {
      "cell_type": "code",
      "execution_count": 135,
      "metadata": {
        "colab": {
          "base_uri": "https://localhost:8080/",
          "height": 0
        },
        "id": "LgbFDHUn4HHE",
        "outputId": "dde4b7e0-097a-4673-edb2-4d7aabac19c0"
      },
      "outputs": [
        {
          "output_type": "stream",
          "name": "stdout",
          "text": [
            "titanic-test.txt  titanic-train.txt\n"
          ]
        }
      ],
      "source": [
        "!wget -q -O titanic-train.txt https://pastebin.com/raw/LDhY3ZTN\n",
        "!wget -q -O titanic-test.txt https://pastebin.com/raw/zGsE0ZJ6\n",
        "!ls *.txt"
      ]
    },
    {
      "cell_type": "markdown",
      "source": [
        "Training data is then loaded and converted to tensors of features and class labels:"
      ],
      "metadata": {
        "id": "Mmsh-_Kg7DPY"
      }
    },
    {
      "cell_type": "code",
      "source": [
        "# Load training data\n",
        "f = open(\"titanic-train.txt\")\n",
        "data = [float(x) for x in f.read().split()]\n",
        "f.close()\n",
        "\n",
        "data = torch.tensor(data).view(-1, 7)\n",
        "X = data[:, :6]\n",
        "Y = data[:, 6].long()\n",
        "\n",
        "# Save real means and stds BEFORE modifying X\n",
        "age_mean, age_std = X[:, 2].mean(), X[:, 2].std()\n",
        "fare_mean, fare_std = X[:, 5].mean(), X[:, 5].std()\n",
        "\n",
        "# Normalize Age and Fare\n",
        "X[:, 2] = (X[:, 2] - age_mean) / age_std\n",
        "X[:, 5] = (X[:, 5] - fare_mean) / fare_std\n",
        "\n",
        "print(X.shape, X.dtype)\n",
        "print(Y.shape, Y.dtype)\n"
      ],
      "metadata": {
        "colab": {
          "base_uri": "https://localhost:8080/",
          "height": 0
        },
        "id": "Bfpc8l8F6OGy",
        "outputId": "09ab25ee-dfbb-43e9-e867-4ee60bd2efba"
      },
      "execution_count": 136,
      "outputs": [
        {
          "output_type": "stream",
          "name": "stdout",
          "text": [
            "torch.Size([710, 6]) torch.float32\n",
            "torch.Size([710]) torch.int64\n"
          ]
        }
      ]
    },
    {
      "cell_type": "markdown",
      "source": [
        "## Training a model\n",
        "\n",
        "Define and train a logistic regression model for the Titanic data. First, define the inference function computing the probability estimates that input features belong to class 1:"
      ],
      "metadata": {
        "id": "xMKCVhbe7Q9b"
      }
    },
    {
      "cell_type": "code",
      "source": [
        "def logreg_inference(w, b, X):\n",
        "    logits = X @ w + b      # Linear transformation: Xw + b\n",
        "    return torch.sigmoid(logits)  # Apply sigmoid to get probabilities"
      ],
      "metadata": {
        "id": "8U5tPs-u7hjP"
      },
      "execution_count": 137,
      "outputs": []
    },
    {
      "cell_type": "markdown",
      "source": [
        "Then write the training loop. Remember the the main steps:\n",
        "1. outside the loop define the parameters of the model, and the optimizer (use `torch.optim.SGD`).\n",
        "2. inside the loop, compute the loss and use the optimizer to update the parameters."
      ],
      "metadata": {
        "id": "46K5bBBx7xL0"
      }
    },
    {
      "cell_type": "code",
      "source": [
        "LR = 0.009\n",
        "STEPS = 4000\n",
        "L2_LAMBDA = 0.01  # Regularization strength\n",
        "\n",
        "torch.manual_seed(0)  # For reproducibility\n",
        "\n",
        "w = torch.randn(6, 1, requires_grad=True)  # 6 input features\n",
        "b = torch.randn(1, requires_grad=True)\n",
        "\n",
        "optimizer = torch.optim.SGD([w, b], lr=LR)\n",
        "\n",
        "losses = []\n",
        "steps = []\n",
        "\n",
        "for step in range(STEPS):\n",
        "    p = logreg_inference(w, b, X).squeeze()  # predicted probabilities\n",
        "\n",
        "    # === Loss with L2 regularization ===\n",
        "    base_loss = torch.nn.functional.binary_cross_entropy(p, Y.float())\n",
        "    l2_penalty = L2_LAMBDA * (w ** 2).sum()\n",
        "    loss = base_loss + l2_penalty\n",
        "\n",
        "    optimizer.zero_grad()\n",
        "    loss.backward()\n",
        "    optimizer.step()\n",
        "\n",
        "    if step % 100 == 0:\n",
        "        print(f\"Step {step} | Loss: {loss.item():.4f}\")\n",
        "        steps.append(step)\n",
        "        losses.append(loss.item())\n"
      ],
      "metadata": {
        "id": "VfB0Zesn7uVY",
        "colab": {
          "base_uri": "https://localhost:8080/",
          "height": 0
        },
        "outputId": "17cea7b7-f45b-4279-be17-baca5bc39fb4"
      },
      "execution_count": 138,
      "outputs": [
        {
          "output_type": "stream",
          "name": "stdout",
          "text": [
            "Step 0 | Loss: 3.3287\n",
            "Step 100 | Loss: 1.7409\n",
            "Step 200 | Loss: 1.1245\n",
            "Step 300 | Loss: 0.9559\n",
            "Step 400 | Loss: 0.8549\n",
            "Step 500 | Loss: 0.7729\n",
            "Step 600 | Loss: 0.7065\n",
            "Step 700 | Loss: 0.6552\n",
            "Step 800 | Loss: 0.6172\n",
            "Step 900 | Loss: 0.5892\n",
            "Step 1000 | Loss: 0.5684\n",
            "Step 1100 | Loss: 0.5527\n",
            "Step 1200 | Loss: 0.5408\n",
            "Step 1300 | Loss: 0.5316\n",
            "Step 1400 | Loss: 0.5244\n",
            "Step 1500 | Loss: 0.5188\n",
            "Step 1600 | Loss: 0.5143\n",
            "Step 1700 | Loss: 0.5107\n",
            "Step 1800 | Loss: 0.5077\n",
            "Step 1900 | Loss: 0.5053\n",
            "Step 2000 | Loss: 0.5033\n",
            "Step 2100 | Loss: 0.5016\n",
            "Step 2200 | Loss: 0.5001\n",
            "Step 2300 | Loss: 0.4989\n",
            "Step 2400 | Loss: 0.4979\n",
            "Step 2500 | Loss: 0.4969\n",
            "Step 2600 | Loss: 0.4962\n",
            "Step 2700 | Loss: 0.4955\n",
            "Step 2800 | Loss: 0.4949\n",
            "Step 2900 | Loss: 0.4943\n",
            "Step 3000 | Loss: 0.4939\n",
            "Step 3100 | Loss: 0.4935\n",
            "Step 3200 | Loss: 0.4931\n",
            "Step 3300 | Loss: 0.4928\n",
            "Step 3400 | Loss: 0.4925\n",
            "Step 3500 | Loss: 0.4922\n",
            "Step 3600 | Loss: 0.4920\n",
            "Step 3700 | Loss: 0.4918\n",
            "Step 3800 | Loss: 0.4916\n",
            "Step 3900 | Loss: 0.4914\n"
          ]
        }
      ]
    },
    {
      "cell_type": "markdown",
      "source": [
        "Modify the code above to make a list with loss values and training steps\n",
        "then execute the next cell to plot it."
      ],
      "metadata": {
        "id": "V0APf4rx99Im"
      }
    },
    {
      "cell_type": "code",
      "source": [
        "plt.figure()\n",
        "plt.plot(steps, losses)"
      ],
      "metadata": {
        "id": "HBxbs4pQ9yn8",
        "colab": {
          "base_uri": "https://localhost:8080/",
          "height": 447
        },
        "outputId": "92089f83-f6ad-452b-b809-469b894f4f34"
      },
      "execution_count": 139,
      "outputs": [
        {
          "output_type": "execute_result",
          "data": {
            "text/plain": [
              "[<matplotlib.lines.Line2D at 0x7a1495e105d0>]"
            ]
          },
          "metadata": {},
          "execution_count": 139
        },
        {
          "output_type": "display_data",
          "data": {
            "text/plain": [
              "<Figure size 640x480 with 1 Axes>"
            ],
            "image/png": "[encoded data removed]"
          },
          "metadata": {}
        }
      ]
    },
    {
      "cell_type": "markdown",
      "source": [
        "Experiment with the code and use the plots to answer the following questions:\n",
        "1. Which is a good value for the learning rate?\n",
        "\n",
        "  The learning rate of 0.009 turned out to be a very effective choice. It allows for smooth and stable convergence while avoiding overshooting or oscillations. The loss decreases significantly in the first several hundred iterations and continues to decline steadily, eventually flattening out. Combined with L2 regularization, it helps the model generalize better and avoid overfitting, as reflected by the close values of training and test accuracy.\n",
        "\n",
        "2. How many iterations are required to converge?\n",
        "\n",
        "  Based on the updated loss curve, the model's loss dropped sharply within the first 500–800 steps and then continued to decrease more slowly. The curve started to plateau around step 1500–2000, and additional training brought only marginal improvements. Thus, approximately 2000 iterations are sufficient for convergence using a learning rate of 0.009 and L2 regularization.\n",
        "\n",
        "\n"
      ],
      "metadata": {
        "id": "D6bvNg1I85Hg"
      }
    },
    {
      "cell_type": "markdown",
      "source": [
        "## Analyze the model\n",
        "\n",
        "Modify the script so that you can answer to the questions.\n",
        "\n",
        "Q1: What would be your probability to survive?  (Make a guess about the ticket class, the fare etc.)"
      ],
      "metadata": {
        "id": "fW2oc5_L_bWT"
      }
    },
    {
      "cell_type": "code",
      "source": [
        "# [Pclass, Sex, Age, Siblings/Spouses, Parents/Children, Fare]\n",
        "me = torch.tensor([[1, 1, (26 - age_mean) / age_std, 1, 2, (80.0 - fare_mean) / fare_std]], dtype=torch.float32)\n",
        "\n",
        "with torch.no_grad():\n",
        "    prob = logreg_inference(w, b, me)\n",
        "    print(f\"My survival probability: {prob.item():.2f}\")\n"
      ],
      "metadata": {
        "id": "XZXWEUvS-4A2",
        "colab": {
          "base_uri": "https://localhost:8080/",
          "height": 0
        },
        "outputId": "375ab82a-ded1-49a1-d39c-eb188e94dae8"
      },
      "execution_count": 140,
      "outputs": [
        {
          "output_type": "stream",
          "name": "stdout",
          "text": [
            "My survival probability: 0.82\n"
          ]
        }
      ]
    },
    {
      "cell_type": "markdown",
      "source": [
        "Q2: What is the *training accuracy* of the trained model?"
      ],
      "metadata": {
        "id": "zvwWt3V7AnsI"
      }
    },
    {
      "cell_type": "code",
      "source": [
        "with torch.no_grad():\n",
        "    predictions = logreg_inference(w, b, X).squeeze() > 0.5\n",
        "    accuracy = (predictions == Y).float().mean()\n",
        "    print(f\"Training accuracy: {accuracy.item() * 100:.2f}%\")\n"
      ],
      "metadata": {
        "id": "WX0UX5e7CvDS",
        "colab": {
          "base_uri": "https://localhost:8080/",
          "height": 0
        },
        "outputId": "0650815a-610f-4ca2-bd51-9e9c9ce3ed0c"
      },
      "execution_count": 141,
      "outputs": [
        {
          "output_type": "stream",
          "name": "stdout",
          "text": [
            "Training accuracy: 80.14%\n"
          ]
        }
      ]
    },
    {
      "cell_type": "markdown",
      "source": [
        "Q3: Looking at the learned weights, how the individual features\n",
        "  influence the probability of surviving?"
      ],
      "metadata": {
        "id": "REtXVhrlCvja"
      }
    },
    {
      "cell_type": "code",
      "source": [
        "print(\"Learned weights:\")\n",
        "for i, name in enumerate([\"Pclass\", \"Sex\", \"Age\", \"Siblings/Spouses\", \"Parents/Children\", \"Fare\"]):\n",
        "    print(f\"{name:20}: {w[i].item():.4f}\")"
      ],
      "metadata": {
        "id": "WKXx3KJNCxmK",
        "colab": {
          "base_uri": "https://localhost:8080/",
          "height": 0
        },
        "outputId": "16f804f3-5dbd-4c53-e978-0adbd42270f4"
      },
      "execution_count": 142,
      "outputs": [
        {
          "output_type": "stream",
          "name": "stdout",
          "text": [
            "Learned weights:\n",
            "Pclass              : -0.6810\n",
            "Sex                 : 1.5522\n",
            "Age                 : -0.4120\n",
            "Siblings/Spouses    : -0.2190\n",
            "Parents/Children    : 0.0012\n",
            "Fare                : 0.2462\n"
          ]
        }
      ]
    },
    {
      "cell_type": "markdown",
      "source": [
        "Q4: What kind of passengers was most likely to survive?  And what\n",
        "  kind to to die?"
      ],
      "metadata": {
        "id": "ho3bj5kXCyyC"
      }
    },
    {
      "cell_type": "code",
      "source": [
        "from itertools import product\n",
        "\n",
        "# Define ranges\n",
        "classes = [1, 2, 3]\n",
        "sexes = [0, 1]  # 0 = male, 1 = female\n",
        "ages = [20, 65]  # young vs. old\n",
        "fares = [7, 30, 100]  # low, medium, high\n",
        "\n",
        "# Store results\n",
        "results = []\n",
        "\n",
        "with torch.no_grad():\n",
        "    for cls, sex, age, fare in product(classes, sexes, ages, fares):\n",
        "        norm_age = (age - age_mean) / age_std\n",
        "        norm_fare = (fare - fare_mean) / fare_std\n",
        "        x_input = torch.tensor([[cls, sex, norm_age, 0, 0, norm_fare]], dtype=torch.float32)\n",
        "        prob = logreg_inference(w, b, x_input).item()\n",
        "\n",
        "        label = f\"{'Female' if sex else 'Male'}, Class {cls}, Age {age}, Fare {fare}\"\n",
        "        results.append((label, prob))\n",
        "\n",
        "# Sort by survival probability\n",
        "results.sort(key=lambda x: x[1], reverse=True)\n",
        "\n",
        "# Print most and least likely\n",
        "print(\"Most likely to survive:\", results[0][0], f\"(Probability: {results[0][1]:.2f})\")\n",
        "print(\"Least likely to survive:\", results[-1][0], f\"(Probability: {results[-1][1]:.2f})\")\n"
      ],
      "metadata": {
        "id": "_BGBL3RFC5P1",
        "colab": {
          "base_uri": "https://localhost:8080/",
          "height": 0
        },
        "outputId": "07bf3f72-39d0-40c3-eee8-390f01f18fda"
      },
      "execution_count": 143,
      "outputs": [
        {
          "output_type": "stream",
          "name": "stdout",
          "text": [
            "Most likely to survive: Female, Class 1, Age 20, Fare 100 (Probability: 0.88)\n",
            "Least likely to survive: Male, Class 3, Age 65, Fare 7 (Probability: 0.06)\n"
          ]
        }
      ]
    },
    {
      "cell_type": "markdown",
      "source": [
        "Q5: Draw a scatter plot showing the distribution of the two classes\n",
        "  in the plane defined by the two most influential features.  Comment\n",
        "  the plot."
      ],
      "metadata": {
        "id": "IDpVvB0IC4Py"
      }
    },
    {
      "cell_type": "code",
      "source": [
        "import matplotlib.pyplot as plt\n",
        "\n",
        "# Use model to get predictions\n",
        "with torch.no_grad():\n",
        "    predictions = logreg_inference(w, b, X).squeeze() > 0.5\n",
        "\n",
        "# Extract most influential features (Sex and Pclass)\n",
        "sex = X[:, 1]  # column 1 is Sex\n",
        "pclass = X[:, 0]  # column 0 is Pclass\n",
        "\n",
        "# Plot\n",
        "plt.figure(figsize=(8, 6))\n",
        "plt.scatter(sex[predictions == 0], pclass[predictions == 0], color='red', label='Did not survive', alpha=0.5)\n",
        "plt.scatter(sex[predictions == 1], pclass[predictions == 1], color='green', label='Survived', alpha=0.5)\n",
        "\n",
        "plt.xlabel(\"Sex (0 = male, 1 = female)\")\n",
        "plt.ylabel(\"Ticket Class (1 = first, 2 = second, 3 = third)\")\n",
        "plt.title(\"Survival Distribution by Sex and Ticket Class\")\n",
        "plt.legend()\n",
        "plt.grid(True)\n",
        "plt.show()\n"
      ],
      "metadata": {
        "id": "eeNiB-b8C6Gt",
        "colab": {
          "base_uri": "https://localhost:8080/",
          "height": 564
        },
        "outputId": "829e0312-db6f-4986-988e-0badaa4ac4f8"
      },
      "execution_count": 144,
      "outputs": [
        {
          "output_type": "display_data",
          "data": {
            "text/plain": [
              "<Figure size 800x600 with 1 Axes>"
            ],
            "image/png": "[encoded data removed]"
          },
          "metadata": {}
        }
      ]
    },
    {
      "cell_type": "markdown",
      "source": [
        "The scatter plot shows survival predictions by Sex (male = 0, female = 1) and Ticket Class (1 = first, 2 = second, 3 = third). Each point represents a unique combination of these two features, and is colored based on the model's predicted outcome.\n",
        "\n",
        "🟩 Females in first and second class were predicted to survive, aligning with historical accounts and the model's strong positive weight for \"Sex\".\n",
        "\n",
        "🟥 Males, especially in lower classes (second and third), were predicted to not survive, influenced by the negative weights associated with both \"Pclass\" and \"Sex\".\n",
        "\n",
        "🟩 Interestingly, some first-class males may be predicted to survive depending on model training, but in your current plot, all males are predicted not to survive.\n",
        "\n",
        "This distribution clearly reflects the model’s learned bias toward higher survival chances for females and higher-class passengers, which mirrors the actual social dynamics during the Titanic evacuation."
      ],
      "metadata": {
        "id": "FIy46Z3oZ-aF"
      }
    },
    {
      "cell_type": "markdown",
      "source": [
        "## Evaluate the script\n",
        "\n",
        "Load the test set in the `Xtest` and `Ytest` tensors. Then, answer the questions."
      ],
      "metadata": {
        "id": "Ou_8-ilFEQo8"
      }
    },
    {
      "cell_type": "code",
      "source": [
        "# Load the test set\n",
        "f = open(\"titanic-test.txt\")\n",
        "test_data = [float(x) for x in f.read().split()]\n",
        "f.close()\n",
        "\n",
        "test_data = torch.tensor(test_data).view(-1, 7)\n",
        "Xtest_raw = test_data[:, :6]\n",
        "Ytest = test_data[:, 6].long()\n",
        "\n",
        "# Use same normalization as training for age and fare\n",
        "Xtest = Xtest_raw.clone()\n",
        "Xtest[:, 2] = (Xtest[:, 2] - age_mean) / age_std  # Normalize age\n",
        "Xtest[:, 5] = (Xtest[:, 5] - fare_mean) / fare_std  # Normalize fare\n"
      ],
      "metadata": {
        "id": "XCCRLSJgEbiY"
      },
      "execution_count": 145,
      "outputs": []
    },
    {
      "cell_type": "markdown",
      "source": [
        "Q6: what is the *test accuracy* of the model?"
      ],
      "metadata": {
        "id": "-ifmB9xQEd2A"
      }
    },
    {
      "cell_type": "code",
      "source": [
        "with torch.no_grad():\n",
        "    preds = logreg_inference(w, b, Xtest).squeeze() > 0.5\n",
        "    test_accuracy = (preds == Ytest).float().mean()\n",
        "    print(f\"Test accuracy: {test_accuracy.item() * 100:.2f}%\")\n"
      ],
      "metadata": {
        "id": "ik2H0i0PEmpc",
        "colab": {
          "base_uri": "https://localhost:8080/",
          "height": 0
        },
        "outputId": "df4dfde3-e5e3-4a1b-d0de-c04025387489"
      },
      "execution_count": 146,
      "outputs": [
        {
          "output_type": "stream",
          "name": "stdout",
          "text": [
            "Test accuracy: 78.53%\n"
          ]
        }
      ]
    },
    {
      "cell_type": "markdown",
      "source": [
        "Q7: Is the model overfitting or underfitting the training set?"
      ],
      "metadata": {
        "id": "cEhn_GgOEnFg"
      }
    },
    {
      "cell_type": "markdown",
      "source": [
        "The model is neither overfitting nor underfitting.\n",
        "The training accuracy is 80.14% and test accuracy is 78.53%, which are very close.\n",
        "This means the model has learned useful patterns from the training data without memorizing it, and is generalizing well to unseen data."
      ],
      "metadata": {
        "id": "q5RaCczjb511"
      }
    },
    {
      "cell_type": "markdown",
      "source": [
        "Q8: How can you increase the performance of the model?"
      ],
      "metadata": {
        "id": "x8UGrfPXEpy-"
      }
    },
    {
      "cell_type": "markdown",
      "source": [
        "with these methods:\n",
        "-Feature Engineering\n",
        "Add more informative features (e.g., interaction terms or nonlinear transforms like age²).\n",
        "\n",
        "-Advanced Optimization:\n",
        "Use optimizers like Adam or RMSprop instead of plain SGD for faster convergence.\n",
        "\n",
        "-Hyperparameter Tuning:\n",
        "Experiment with:\n",
        "Learning rate (LR)\n",
        "Regularization strength (L2_LAMBDA)\n",
        "Number of training steps\n",
        "\n",
        "-Data Preprocessing:\n",
        "Normalize all continuous features properly, and ensure categorical features (like Pclass, Sex) are well encoded.\n",
        "\n",
        "-Model Complexity:\n",
        "Move beyond logistic regression. Try more expressive models like decision trees or neural networks for better performance (if allowed)."
      ],
      "metadata": {
        "id": "peiefoORb_b9"
      }
    },
    {
      "cell_type": "markdown",
      "source": [
        "## Homework assignement\n",
        "\n",
        "Prepare a report of one or two pages with the answers to the questions\n",
        "(include a short comment for each question).  The report must be in\n",
        "the PDF format.  Include your name in the report and conclude the\n",
        "document with the following statement: ``I affirm that this report is\n",
        "the result of my own work and that I did not share any part of it with\n",
        "anyone else except the teacher.''\n",
        "\n",
        "Make a ZIP archive with the report and the PDF of the notebook you used (with all the outputs) and and upload it on the course website.\n"
      ],
      "metadata": {
        "id": "NL9IRrolEuiz"
      }
    }
  ]
}